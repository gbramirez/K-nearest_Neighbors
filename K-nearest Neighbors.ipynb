{
 "cells": [
  {
   "cell_type": "markdown",
   "id": "9bcb8d53",
   "metadata": {},
   "source": [
    "<strong>Brian Ramirez</strong>"
   ]
  },
  {
   "cell_type": "markdown",
   "id": "4151b10a",
   "metadata": {},
   "source": [
    "# K-nearest Neighbors"
   ]
  },
  {
   "cell_type": "markdown",
   "id": "32b37ebe",
   "metadata": {},
   "source": [
    "## Business Question\n",
    "\n",
    "### K-nearest Neighbors\n",
    "<p> Can K-Nearest Neighbors identify whether a patient will be readmitted within 30 days of discharge based on the patient's age, high blood presure diagnosis, and stroke diagnosis?<br> The organization could use the analysis to provide additional services to patients likely to be readmitted based on this criteria. </p>\n",
    "  \n",
    "### Goal\n",
    "<ul>\n",
    "    <li>Using K-Nearest Neighbors, develop a model to determine which patients will be readmitted to the hospital within 30 days of discharge.</li>\n",
    "    <li>Identify whether the Age, HighBlood, and Stroke variables are closely related to a patient being readmitted within 30 days of discharge.</li>\n"
   ]
  },
  {
   "cell_type": "markdown",
   "id": "56c8f933",
   "metadata": {},
   "source": [
    "### How does K-nearest Neighbors Work?\n",
    "\n",
    "<strong>How KNN Analyzes the Selected Data Set:</strong><br>\n",
    "    <p>K-Nearest Neighbors(KNN) is used to find the most appropriate label for unlabeled data based on the label of nearest data points. According to <em>Practical statistics for data scientists</em>, KNN finds records in the data set that have \"similar predictor values\" and create a new record from the values. The KNN process will then \"find the average\" of the first set of records and \"predict that average for the new record\" (Bruce, Bruce, & Gedeck. 2020). The way KNN classifies related data makes it the best choice to identify variables closely related to patient readmittance.</p>\n",
    "\n",
    "<p><strong>Expected Outcomes:</strong><br>\n",
    "    <ul>\n",
    "        <li>A classification model will be created using KNN.</li>\n",
    "        <li>The model will classify which data points can be used to predict patient readmittance.\n",
    "        <li>A stakeholder recommendation will be created using the results of the analysis.</li></ul>\n",
    "</p>\n",
    "\n",
    "<strong>An Assumption of KNN<strong>\n",
    "<p>KNN assumes that if two data points are close to each other, they must be related. KNN would also assume that the closer two data points are in proximity, the more closely related they must be.</p>\n",
    "\n",
    "### Packages and Libraries\n",
    "  | Package | Justification |\n",
    "  | :--- | :--- |\n",
    "  | Pandas | Create and manipulate data frames for the analysis. <br> Manipulating the data frame is a critical part of the data cleaning process.|\n",
    "  |  MatPlotLib |Create charts and reports on the data for visualization.<br> Charts and reports are vital to any data analysis project.|\n",
    "  | SciKitLearn | Scale, test, train, and fit the data.<br> The package also includes the KNearestNeighbors tools.|\n",
    "  | NumPy | Read, process, and evaluate the data. <br>The package also allows the creation of arrays for the classification process.|"
   ]
  },
  {
   "cell_type": "markdown",
   "id": "8eb9adfd",
   "metadata": {},
   "source": [
    "## Preprocessing\n",
    "\n",
    "### Revelant Preprocessing Goal\n",
    "<p>Reexpressing categorical variables into numeric values is a relevant preprocessing goal. Categorical values cannot be properly analyzed using KNN unless they are converted into a numeric format. Reexpressing the variables will involve creating new dummy variables to hold the numeric values and removing the original variables from the data set.</p>\n",
    "\n",
    "### Relevant Variables\n",
    "\n",
    "<p> The variables used to perform the analysis are as follows:</p>\n",
    "\n",
    "| Type | Name | Description |\n",
    "| :--- | :--- | :--- |\n",
    "| Target Categorical| ReAdmis | Whether the patient was readmitted within 30 days of an initial stay.\n",
    "| Continuous | Age | The patient's age at the time of admission. |\n",
    "| Categorical | HighBlood | Whether the patient has high blood pressure. |\n",
    "| Categorical | Stroke | Whether the patient suffered a stroke. |\n",
    "\n",
    "<sub>All categorical variables will be reexpressed into numeric \"dummy\" values for the analysis. \"Yes\" values will be converted into 1. \"No\" values will be converted into 0.</sub>"
   ]
  },
  {
   "cell_type": "markdown",
   "id": "de05673e",
   "metadata": {},
   "source": [
    "### Data Preparation"
   ]
  },
  {
   "cell_type": "markdown",
   "id": "e34ba3bc",
   "metadata": {},
   "source": [
    "<p><strong>Step Zero:</strong><br>\n",
    "    <ul>\n",
    "        <li>Import the CSV file into Juptyer Notebook and create a DataFrame.</li>\n",
    "        <li>Make a deep copy of the file.</li>\n",
    "</ul>\n",
    "\n",
    "<strong>Step Zero Imports</strong><br>\n",
    "<ul>\n",
    "    <li><em>Pandas</em> to load the CSV, create a data frame, and save a deep copy of the data frame.</li>\n",
    "    <li><em>filterwarnings</em> from <em>warnings</em> to hide redundant error messages.</li>\n",
    "</ul></p>"
   ]
  },
  {
   "cell_type": "code",
   "execution_count": 1,
   "id": "82adaf26",
   "metadata": {},
   "outputs": [],
   "source": [
    "# Import Pandas to load the CSV and create a DataFrame\n",
    "\n",
    "import pandas as pd\n",
    "import warnings\n",
    "warnings.filterwarnings('ignore')"
   ]
  },
  {
   "cell_type": "code",
   "execution_count": 2,
   "id": "af612b3e",
   "metadata": {
    "scrolled": false
   },
   "outputs": [
    {
     "name": "stdout",
     "output_type": "stream",
     "text": [
      "<class 'pandas.core.frame.DataFrame'>\n",
      "Int64Index: 10000 entries, 1 to 10000\n",
      "Data columns (total 49 columns):\n",
      " #   Column              Non-Null Count  Dtype  \n",
      "---  ------              --------------  -----  \n",
      " 0   Customer_id         10000 non-null  object \n",
      " 1   Interaction         10000 non-null  object \n",
      " 2   UID                 10000 non-null  object \n",
      " 3   City                10000 non-null  object \n",
      " 4   State               10000 non-null  object \n",
      " 5   County              10000 non-null  object \n",
      " 6   Zip                 10000 non-null  int64  \n",
      " 7   Lat                 10000 non-null  float64\n",
      " 8   Lng                 10000 non-null  float64\n",
      " 9   Population          10000 non-null  int64  \n",
      " 10  Area                10000 non-null  object \n",
      " 11  TimeZone            10000 non-null  object \n",
      " 12  Job                 10000 non-null  object \n",
      " 13  Children            10000 non-null  int64  \n",
      " 14  Age                 10000 non-null  int64  \n",
      " 15  Income              10000 non-null  float64\n",
      " 16  Marital             10000 non-null  object \n",
      " 17  Gender              10000 non-null  object \n",
      " 18  ReAdmis             10000 non-null  object \n",
      " 19  VitD_levels         10000 non-null  float64\n",
      " 20  Doc_visits          10000 non-null  int64  \n",
      " 21  Full_meals_eaten    10000 non-null  int64  \n",
      " 22  vitD_supp           10000 non-null  int64  \n",
      " 23  Soft_drink          10000 non-null  object \n",
      " 24  Initial_admin       10000 non-null  object \n",
      " 25  HighBlood           10000 non-null  object \n",
      " 26  Stroke              10000 non-null  object \n",
      " 27  Complication_risk   10000 non-null  object \n",
      " 28  Overweight          10000 non-null  object \n",
      " 29  Arthritis           10000 non-null  object \n",
      " 30  Diabetes            10000 non-null  object \n",
      " 31  Hyperlipidemia      10000 non-null  object \n",
      " 32  BackPain            10000 non-null  object \n",
      " 33  Anxiety             10000 non-null  object \n",
      " 34  Allergic_rhinitis   10000 non-null  object \n",
      " 35  Reflux_esophagitis  10000 non-null  object \n",
      " 36  Asthma              10000 non-null  object \n",
      " 37  Services            10000 non-null  object \n",
      " 38  Initial_days        10000 non-null  float64\n",
      " 39  TotalCharge         10000 non-null  float64\n",
      " 40  Additional_charges  10000 non-null  float64\n",
      " 41  Item1               10000 non-null  int64  \n",
      " 42  Item2               10000 non-null  int64  \n",
      " 43  Item3               10000 non-null  int64  \n",
      " 44  Item4               10000 non-null  int64  \n",
      " 45  Item5               10000 non-null  int64  \n",
      " 46  Item6               10000 non-null  int64  \n",
      " 47  Item7               10000 non-null  int64  \n",
      " 48  Item8               10000 non-null  int64  \n",
      "dtypes: float64(7), int64(15), object(27)\n",
      "memory usage: 3.8+ MB\n"
     ]
    }
   ],
   "source": [
    "# Import the CSV file into Jupyter Notebook and make a DataFrame\n",
    "\n",
    "df=pd.read_csv('medical_clean.csv', index_col=0)\n",
    "df.info()"
   ]
  },
  {
   "cell_type": "code",
   "execution_count": 3,
   "id": "00522733",
   "metadata": {},
   "outputs": [],
   "source": [
    "# Make a deep copy of the file\n",
    "\n",
    "patient_df_deep_copy=df.copy(deep=True)"
   ]
  },
  {
   "cell_type": "markdown",
   "id": "dc72a3f3",
   "metadata": {},
   "source": [
    "<p><strong>Step One</strong>\n",
    "<ul>\n",
    "    <li>Drop columns not relevant to the business question.</li>\n",
    "</ul>\n",
    "<strong>Step One Imports</strong><br>\n",
    "<sub>No additional imports used.</sub></p>"
   ]
  },
  {
   "cell_type": "code",
   "execution_count": 4,
   "id": "342afc0e",
   "metadata": {},
   "outputs": [],
   "source": [
    "# Drop columns not relevant to the business question\n",
    "\n",
    "irrel_cols = ['Customer_id', 'Interaction', 'UID', 'City', 'State', 'County', 'Zip', 'Lat', 'Lng', 'Population', 'Area', 'TimeZone', 'Job', 'Children', 'Income', 'Marital', 'Gender', 'VitD_levels', 'Full_meals_eaten', 'vitD_supp', 'Soft_drink', 'Initial_admin', 'Arthritis', 'Hyperlipidemia', 'BackPain', 'Anxiety', 'Allergic_rhinitis', 'Reflux_esophagitis', 'Asthma', 'Services', 'TotalCharge', 'Additional_charges', 'Item1', 'Item2', 'Item3', 'Item4', 'Item5', 'Item6', 'Item7', 'Item8', 'Doc_visits', 'Complication_risk', 'Overweight', 'Diabetes', 'Initial_days'] \n",
    "df = df.drop(irrel_cols, axis = 1)"
   ]
  },
  {
   "cell_type": "markdown",
   "id": "22766a2d",
   "metadata": {},
   "source": [
    "<p><strong>Step Two</strong>\n",
    "<ul>\n",
    "    <li>Handle duplicate values.</li>\n",
    "    <li>Handle missing or null values.</li>\n",
    "</ul>\n",
    "<strong>Step Two Imports</strong><br>\n",
    "<sub>No additional imports used.</sub></p>"
   ]
  },
  {
   "cell_type": "code",
   "execution_count": 5,
   "id": "71ef38e4",
   "metadata": {},
   "outputs": [
    {
     "data": {
      "text/html": [
       "<div>\n",
       "<style scoped>\n",
       "    .dataframe tbody tr th:only-of-type {\n",
       "        vertical-align: middle;\n",
       "    }\n",
       "\n",
       "    .dataframe tbody tr th {\n",
       "        vertical-align: top;\n",
       "    }\n",
       "\n",
       "    .dataframe thead th {\n",
       "        text-align: right;\n",
       "    }\n",
       "</style>\n",
       "<table border=\"1\" class=\"dataframe\">\n",
       "  <thead>\n",
       "    <tr style=\"text-align: right;\">\n",
       "      <th></th>\n",
       "      <th>Age</th>\n",
       "      <th>ReAdmis</th>\n",
       "      <th>HighBlood</th>\n",
       "      <th>Stroke</th>\n",
       "    </tr>\n",
       "    <tr>\n",
       "      <th>CaseOrder</th>\n",
       "      <th></th>\n",
       "      <th></th>\n",
       "      <th></th>\n",
       "      <th></th>\n",
       "    </tr>\n",
       "  </thead>\n",
       "  <tbody>\n",
       "    <tr>\n",
       "      <th>1</th>\n",
       "      <td>53</td>\n",
       "      <td>No</td>\n",
       "      <td>Yes</td>\n",
       "      <td>No</td>\n",
       "    </tr>\n",
       "    <tr>\n",
       "      <th>2</th>\n",
       "      <td>51</td>\n",
       "      <td>No</td>\n",
       "      <td>Yes</td>\n",
       "      <td>No</td>\n",
       "    </tr>\n",
       "    <tr>\n",
       "      <th>3</th>\n",
       "      <td>53</td>\n",
       "      <td>No</td>\n",
       "      <td>Yes</td>\n",
       "      <td>No</td>\n",
       "    </tr>\n",
       "    <tr>\n",
       "      <th>4</th>\n",
       "      <td>78</td>\n",
       "      <td>No</td>\n",
       "      <td>No</td>\n",
       "      <td>Yes</td>\n",
       "    </tr>\n",
       "    <tr>\n",
       "      <th>5</th>\n",
       "      <td>22</td>\n",
       "      <td>No</td>\n",
       "      <td>No</td>\n",
       "      <td>No</td>\n",
       "    </tr>\n",
       "  </tbody>\n",
       "</table>\n",
       "</div>"
      ],
      "text/plain": [
       "           Age ReAdmis HighBlood Stroke\n",
       "CaseOrder                              \n",
       "1           53      No       Yes     No\n",
       "2           51      No       Yes     No\n",
       "3           53      No       Yes     No\n",
       "4           78      No        No    Yes\n",
       "5           22      No        No     No"
      ]
     },
     "execution_count": 5,
     "metadata": {},
     "output_type": "execute_result"
    }
   ],
   "source": [
    "df.head()"
   ]
  },
  {
   "cell_type": "code",
   "execution_count": 6,
   "id": "90052193",
   "metadata": {},
   "outputs": [
    {
     "data": {
      "text/plain": [
       "True     9427\n",
       "False     573\n",
       "dtype: int64"
      ]
     },
     "execution_count": 6,
     "metadata": {},
     "output_type": "execute_result"
    }
   ],
   "source": [
    "# Duplicate data value count\n",
    "\n",
    "df.duplicated().value_counts()"
   ]
  },
  {
   "cell_type": "markdown",
   "id": "8fb02aec",
   "metadata": {},
   "source": [
    "<p>Duplicates are expected because the three categorical variables only consist of yes/no values and the continuous variable is the patient's age.<br>\n",
    "    It is inevitable that many rows will contain the same values.<br>\n",
    "    Treatment of duplicate values <em>will not</em> be necessary.</p>"
   ]
  },
  {
   "cell_type": "code",
   "execution_count": 7,
   "id": "accc860a",
   "metadata": {},
   "outputs": [
    {
     "data": {
      "text/plain": [
       "Age          0\n",
       "ReAdmis      0\n",
       "HighBlood    0\n",
       "Stroke       0\n",
       "dtype: int64"
      ]
     },
     "execution_count": 7,
     "metadata": {},
     "output_type": "execute_result"
    }
   ],
   "source": [
    "# Missing or null value count\n",
    "\n",
    "df.isnull().sum()"
   ]
  },
  {
   "cell_type": "markdown",
   "id": "8f1ac6b9",
   "metadata": {},
   "source": [
    "<p>No null or missing values are detected in the dataset.<br>\n",
    "    Treatment of null or missing values <em>will not</em> be necessary.</p>"
   ]
  },
  {
   "cell_type": "markdown",
   "id": "a304c7bd",
   "metadata": {},
   "source": [
    "<p><strong>Step Three</strong>\n",
    "<ul>\n",
    "    <li>Rename the continuous variable to snake case for uniformity.</li>\n",
    "</ul>\n",
    "The rexepressed dummy categorical variables will be named in snakecase, so the continuous variable should be renamed as well.<br>\n",
    "\n",
    "<strong>Step Three Imports</strong><br>\n",
    "<sub>No additional imports used.</sub></p>"
   ]
  },
  {
   "cell_type": "code",
   "execution_count": 8,
   "id": "e85e2fcf",
   "metadata": {},
   "outputs": [],
   "source": [
    "# Rename continuous variable column to snake case for uniformity after \n",
    "\n",
    "df.rename(columns=({'Age':'age'}),inplace=True)"
   ]
  },
  {
   "cell_type": "markdown",
   "id": "8111810f",
   "metadata": {},
   "source": [
    "<p><strong>Step Four</strong>\n",
    "<ul>\n",
    "    <li>Reexpress categorical variables into dummy variables with numerical values.</li>\n",
    "</ul>\n",
    "\n",
    "<strong>Step Four Imports</strong><br>\n",
    "<ul>\n",
    "    <li>preprocessing from SciKitLearn to convert categorical values into numerical.</li>\n",
    "</ul></p>"
   ]
  },
  {
   "cell_type": "code",
   "execution_count": 9,
   "id": "52ae97bd",
   "metadata": {},
   "outputs": [],
   "source": [
    "# Import preprocessing from SciKitLearn\n",
    "\n",
    "from sklearn import preprocessing"
   ]
  },
  {
   "cell_type": "code",
   "execution_count": 10,
   "id": "9bdfef6f",
   "metadata": {},
   "outputs": [],
   "source": [
    "# Reexpress categorical variables into dummy variables with numerical values\n",
    "\n",
    "le=preprocessing.LabelEncoder()\n",
    "\n",
    "readmit=le.fit_transform(df.ReAdmis)\n",
    "blood_pressure=le.fit_transform(df.HighBlood)\n",
    "stroke=le.fit_transform(df.Stroke)\n",
    "\n",
    "df['readmit']=readmit\n",
    "df['blood_pressure']=blood_pressure\n",
    "df['stroke']=stroke"
   ]
  },
  {
   "cell_type": "code",
   "execution_count": 11,
   "id": "ecf43eb9",
   "metadata": {},
   "outputs": [
    {
     "data": {
      "text/html": [
       "<div>\n",
       "<style scoped>\n",
       "    .dataframe tbody tr th:only-of-type {\n",
       "        vertical-align: middle;\n",
       "    }\n",
       "\n",
       "    .dataframe tbody tr th {\n",
       "        vertical-align: top;\n",
       "    }\n",
       "\n",
       "    .dataframe thead th {\n",
       "        text-align: right;\n",
       "    }\n",
       "</style>\n",
       "<table border=\"1\" class=\"dataframe\">\n",
       "  <thead>\n",
       "    <tr style=\"text-align: right;\">\n",
       "      <th></th>\n",
       "      <th>age</th>\n",
       "      <th>ReAdmis</th>\n",
       "      <th>HighBlood</th>\n",
       "      <th>Stroke</th>\n",
       "      <th>readmit</th>\n",
       "      <th>blood_pressure</th>\n",
       "      <th>stroke</th>\n",
       "    </tr>\n",
       "    <tr>\n",
       "      <th>CaseOrder</th>\n",
       "      <th></th>\n",
       "      <th></th>\n",
       "      <th></th>\n",
       "      <th></th>\n",
       "      <th></th>\n",
       "      <th></th>\n",
       "      <th></th>\n",
       "    </tr>\n",
       "  </thead>\n",
       "  <tbody>\n",
       "    <tr>\n",
       "      <th>1</th>\n",
       "      <td>53</td>\n",
       "      <td>No</td>\n",
       "      <td>Yes</td>\n",
       "      <td>No</td>\n",
       "      <td>0</td>\n",
       "      <td>1</td>\n",
       "      <td>0</td>\n",
       "    </tr>\n",
       "    <tr>\n",
       "      <th>2</th>\n",
       "      <td>51</td>\n",
       "      <td>No</td>\n",
       "      <td>Yes</td>\n",
       "      <td>No</td>\n",
       "      <td>0</td>\n",
       "      <td>1</td>\n",
       "      <td>0</td>\n",
       "    </tr>\n",
       "    <tr>\n",
       "      <th>3</th>\n",
       "      <td>53</td>\n",
       "      <td>No</td>\n",
       "      <td>Yes</td>\n",
       "      <td>No</td>\n",
       "      <td>0</td>\n",
       "      <td>1</td>\n",
       "      <td>0</td>\n",
       "    </tr>\n",
       "    <tr>\n",
       "      <th>4</th>\n",
       "      <td>78</td>\n",
       "      <td>No</td>\n",
       "      <td>No</td>\n",
       "      <td>Yes</td>\n",
       "      <td>0</td>\n",
       "      <td>0</td>\n",
       "      <td>1</td>\n",
       "    </tr>\n",
       "    <tr>\n",
       "      <th>5</th>\n",
       "      <td>22</td>\n",
       "      <td>No</td>\n",
       "      <td>No</td>\n",
       "      <td>No</td>\n",
       "      <td>0</td>\n",
       "      <td>0</td>\n",
       "      <td>0</td>\n",
       "    </tr>\n",
       "  </tbody>\n",
       "</table>\n",
       "</div>"
      ],
      "text/plain": [
       "           age ReAdmis HighBlood Stroke  readmit  blood_pressure  stroke\n",
       "CaseOrder                                                               \n",
       "1           53      No       Yes     No        0               1       0\n",
       "2           51      No       Yes     No        0               1       0\n",
       "3           53      No       Yes     No        0               1       0\n",
       "4           78      No        No    Yes        0               0       1\n",
       "5           22      No        No     No        0               0       0"
      ]
     },
     "execution_count": 11,
     "metadata": {},
     "output_type": "execute_result"
    }
   ],
   "source": [
    "# DataFrame including old variables and dummy variables\n",
    "\n",
    "df.head()"
   ]
  },
  {
   "cell_type": "markdown",
   "id": "1c59a1d0",
   "metadata": {},
   "source": [
    "<p><strong>Step Five</strong>\n",
    "<ul>\n",
    "    <li>Drop the original categorical variables so only re-expressed values are included in the data set.</li>\n",
    "</ul>\n",
    "\n",
    "<strong>Step Five Imports</strong><br>\n",
    "<sub>No additional imports used.</sub></p>"
   ]
  },
  {
   "cell_type": "code",
   "execution_count": 12,
   "id": "8549c068",
   "metadata": {},
   "outputs": [],
   "source": [
    "# Remove the original categorical variables so only re-expressed values are included in the data set\n",
    "\n",
    "df.drop(columns=['ReAdmis', 'HighBlood', 'Stroke'], inplace=True)"
   ]
  },
  {
   "cell_type": "code",
   "execution_count": 13,
   "id": "3b1885d9",
   "metadata": {
    "scrolled": true
   },
   "outputs": [
    {
     "data": {
      "text/html": [
       "<div>\n",
       "<style scoped>\n",
       "    .dataframe tbody tr th:only-of-type {\n",
       "        vertical-align: middle;\n",
       "    }\n",
       "\n",
       "    .dataframe tbody tr th {\n",
       "        vertical-align: top;\n",
       "    }\n",
       "\n",
       "    .dataframe thead th {\n",
       "        text-align: right;\n",
       "    }\n",
       "</style>\n",
       "<table border=\"1\" class=\"dataframe\">\n",
       "  <thead>\n",
       "    <tr style=\"text-align: right;\">\n",
       "      <th></th>\n",
       "      <th>age</th>\n",
       "      <th>readmit</th>\n",
       "      <th>blood_pressure</th>\n",
       "      <th>stroke</th>\n",
       "    </tr>\n",
       "    <tr>\n",
       "      <th>CaseOrder</th>\n",
       "      <th></th>\n",
       "      <th></th>\n",
       "      <th></th>\n",
       "      <th></th>\n",
       "    </tr>\n",
       "  </thead>\n",
       "  <tbody>\n",
       "    <tr>\n",
       "      <th>1</th>\n",
       "      <td>53</td>\n",
       "      <td>0</td>\n",
       "      <td>1</td>\n",
       "      <td>0</td>\n",
       "    </tr>\n",
       "    <tr>\n",
       "      <th>2</th>\n",
       "      <td>51</td>\n",
       "      <td>0</td>\n",
       "      <td>1</td>\n",
       "      <td>0</td>\n",
       "    </tr>\n",
       "    <tr>\n",
       "      <th>3</th>\n",
       "      <td>53</td>\n",
       "      <td>0</td>\n",
       "      <td>1</td>\n",
       "      <td>0</td>\n",
       "    </tr>\n",
       "    <tr>\n",
       "      <th>4</th>\n",
       "      <td>78</td>\n",
       "      <td>0</td>\n",
       "      <td>0</td>\n",
       "      <td>1</td>\n",
       "    </tr>\n",
       "    <tr>\n",
       "      <th>5</th>\n",
       "      <td>22</td>\n",
       "      <td>0</td>\n",
       "      <td>0</td>\n",
       "      <td>0</td>\n",
       "    </tr>\n",
       "  </tbody>\n",
       "</table>\n",
       "</div>"
      ],
      "text/plain": [
       "           age  readmit  blood_pressure  stroke\n",
       "CaseOrder                                      \n",
       "1           53        0               1       0\n",
       "2           51        0               1       0\n",
       "3           53        0               1       0\n",
       "4           78        0               0       1\n",
       "5           22        0               0       0"
      ]
     },
     "execution_count": 13,
     "metadata": {},
     "output_type": "execute_result"
    }
   ],
   "source": [
    "# New DataFrame with re-expressed variables\n",
    "\n",
    "df.head()"
   ]
  },
  {
   "cell_type": "markdown",
   "id": "68d5af30",
   "metadata": {},
   "source": [
    "<p>The results of the data preparation can be seen here:</p>"
   ]
  },
  {
   "cell_type": "code",
   "execution_count": 14,
   "id": "ca3d98ba",
   "metadata": {
    "scrolled": false
   },
   "outputs": [
    {
     "data": {
      "text/html": [
       "<div>\n",
       "<style scoped>\n",
       "    .dataframe tbody tr th:only-of-type {\n",
       "        vertical-align: middle;\n",
       "    }\n",
       "\n",
       "    .dataframe tbody tr th {\n",
       "        vertical-align: top;\n",
       "    }\n",
       "\n",
       "    .dataframe thead th {\n",
       "        text-align: right;\n",
       "    }\n",
       "</style>\n",
       "<table border=\"1\" class=\"dataframe\">\n",
       "  <thead>\n",
       "    <tr style=\"text-align: right;\">\n",
       "      <th></th>\n",
       "      <th>count</th>\n",
       "      <th>mean</th>\n",
       "      <th>std</th>\n",
       "      <th>min</th>\n",
       "      <th>25%</th>\n",
       "      <th>50%</th>\n",
       "      <th>75%</th>\n",
       "      <th>max</th>\n",
       "    </tr>\n",
       "  </thead>\n",
       "  <tbody>\n",
       "    <tr>\n",
       "      <th>age</th>\n",
       "      <td>10000.0</td>\n",
       "      <td>53.5117</td>\n",
       "      <td>20.638538</td>\n",
       "      <td>18.0</td>\n",
       "      <td>36.0</td>\n",
       "      <td>53.0</td>\n",
       "      <td>71.0</td>\n",
       "      <td>89.0</td>\n",
       "    </tr>\n",
       "    <tr>\n",
       "      <th>readmit</th>\n",
       "      <td>10000.0</td>\n",
       "      <td>0.3669</td>\n",
       "      <td>0.481983</td>\n",
       "      <td>0.0</td>\n",
       "      <td>0.0</td>\n",
       "      <td>0.0</td>\n",
       "      <td>1.0</td>\n",
       "      <td>1.0</td>\n",
       "    </tr>\n",
       "    <tr>\n",
       "      <th>blood_pressure</th>\n",
       "      <td>10000.0</td>\n",
       "      <td>0.4090</td>\n",
       "      <td>0.491674</td>\n",
       "      <td>0.0</td>\n",
       "      <td>0.0</td>\n",
       "      <td>0.0</td>\n",
       "      <td>1.0</td>\n",
       "      <td>1.0</td>\n",
       "    </tr>\n",
       "    <tr>\n",
       "      <th>stroke</th>\n",
       "      <td>10000.0</td>\n",
       "      <td>0.1993</td>\n",
       "      <td>0.399494</td>\n",
       "      <td>0.0</td>\n",
       "      <td>0.0</td>\n",
       "      <td>0.0</td>\n",
       "      <td>0.0</td>\n",
       "      <td>1.0</td>\n",
       "    </tr>\n",
       "  </tbody>\n",
       "</table>\n",
       "</div>"
      ],
      "text/plain": [
       "                  count     mean        std   min   25%   50%   75%   max\n",
       "age             10000.0  53.5117  20.638538  18.0  36.0  53.0  71.0  89.0\n",
       "readmit         10000.0   0.3669   0.481983   0.0   0.0   0.0   1.0   1.0\n",
       "blood_pressure  10000.0   0.4090   0.491674   0.0   0.0   0.0   1.0   1.0\n",
       "stroke          10000.0   0.1993   0.399494   0.0   0.0   0.0   0.0   1.0"
      ]
     },
     "execution_count": 14,
     "metadata": {},
     "output_type": "execute_result"
    }
   ],
   "source": [
    "# Description of new DataFrame\n",
    "\n",
    "df.describe().transpose()"
   ]
  },
  {
   "cell_type": "markdown",
   "id": "a6da3119",
   "metadata": {},
   "source": [
    "<p><strong>Step Six</strong>\n",
    "    <ul>\n",
    "        <li>Create a graph of the cleaned data set.</li>\n",
    "    </ul>\n",
    " \n",
    " <strong>Step Six Imports</strong><br>\n",
    " <ul>\n",
    "    <li>pyplot from matplotlib to create a histogram of the dataset.</li></ul>\n",
    " </p>"
   ]
  },
  {
   "cell_type": "code",
   "execution_count": 15,
   "id": "f39c171c",
   "metadata": {},
   "outputs": [],
   "source": [
    "# Import pyplot from matplotlib\n",
    "\n",
    "import matplotlib.pyplot as plt\n",
    "%matplotlib inline"
   ]
  },
  {
   "cell_type": "code",
   "execution_count": 16,
   "id": "a80819d1",
   "metadata": {},
   "outputs": [
    {
     "data": {
      "image/png": "[encoded data removed]",
      "text/plain": [
       "<Figure size 1040x715 with 4 Axes>"
      ]
     },
     "metadata": {},
     "output_type": "display_data"
    }
   ],
   "source": [
    "# Create a graph of the cleaned data set\n",
    "\n",
    "plt.style.use('seaborn-talk')\n",
    "df.hist()\n",
    "plt.tight_layout()\n",
    "plt.show()"
   ]
  },
  {
   "cell_type": "markdown",
   "id": "d44961d1",
   "metadata": {},
   "source": [
    "## Analysis"
   ]
  },
  {
   "cell_type": "markdown",
   "id": "f6be0efb",
   "metadata": {},
   "source": [
    "### Split the data into training and test data sets\n",
    "<p>Splitting the data into training and test data sets includes the following steps:</p>"
   ]
  },
  {
   "cell_type": "markdown",
   "id": "a57f0c07",
   "metadata": {},
   "source": [
    "<p><strong>Step One</strong>\n",
    "<ul>\n",
    "    <li>Load the clean CSV into a new DataFrame</li>\n",
    "</ul>\n",
    "<strong>Step One Imports</strong><br>\n",
    "<sub>No additional imports used.</sub></p>"
   ]
  },
  {
   "cell_type": "code",
   "execution_count": 18,
   "id": "1b4dc648",
   "metadata": {},
   "outputs": [],
   "source": [
    "# Load clean csv into a new DataFrame\n",
    "\n",
    "patient_df=pd.read_csv('clean_data.csv')"
   ]
  },
  {
   "cell_type": "markdown",
   "id": "e3eb3cdb",
   "metadata": {},
   "source": [
    "<p><strong>Step Two</strong>\n",
    "<ul>\n",
    "    <li>Move the <em>Target Variable</em> to the end of the DataFrame so it can be easily excluded when necessary.</li>\n",
    "</ul>\n",
    "<strong>Step Two Imports</strong><br>\n",
    "<sub>No additional imports used.</sub></p>"
   ]
  },
  {
   "cell_type": "code",
   "execution_count": 19,
   "id": "6ddcc3d8",
   "metadata": {},
   "outputs": [],
   "source": [
    "# Move the target variable to the end of the dataframe\n",
    "\n",
    "df_reorg=[col for col in patient_df.columns if col != 'readmit'] + ['readmit']\n",
    "patient_df=patient_df[df_reorg]"
   ]
  },
  {
   "cell_type": "markdown",
   "id": "15469cd0",
   "metadata": {},
   "source": [
    "<p><strong>Step Three</strong>\n",
    "<ul>\n",
    "    <li>Split the data into <em>train</em> and <em>test</em> data sets.</li>\n",
    "</ul>\n",
    "\n",
    "<strong>Step Three Imports</strong><br>\n",
    "<ul>\n",
    "    <li>train_test_split from SciKitLearn's model_selection to train, test, and split the dataset.</li>\n",
    "</ul></p>"
   ]
  },
  {
   "cell_type": "code",
   "execution_count": 20,
   "id": "861f277b",
   "metadata": {},
   "outputs": [],
   "source": [
    "# Import train_test_split from SkiKitLearn's model_selection\n",
    "\n",
    "from sklearn.model_selection import train_test_split"
   ]
  },
  {
   "cell_type": "code",
   "execution_count": 21,
   "id": "7a0c21dd",
   "metadata": {},
   "outputs": [
    {
     "name": "stdout",
     "output_type": "stream",
     "text": [
      "The Feature Dimension is:  (10000, 4)\n"
     ]
    }
   ],
   "source": [
    "# Split the data into train and test data sets\n",
    "\n",
    "X=patient_df.drop(['readmit'], axis=1)\n",
    "y=patient_df.readmit\n",
    "X_train, X_test, y_train, y_test=train_test_split(X,y, test_size=.20, random_state=21, stratify=y)\n",
    "print(\"The Feature Dimension is: \", X.shape) "
   ]
  },
  {
   "cell_type": "code",
   "execution_count": 22,
   "id": "6db2404c",
   "metadata": {},
   "outputs": [
    {
     "name": "stdout",
     "output_type": "stream",
     "text": [
      "      CaseOrder  age  blood_pressure  stroke\n",
      "0             1   53               1       0\n",
      "1             2   51               1       0\n",
      "2             3   53               1       0\n",
      "3             4   78               0       1\n",
      "4             5   22               0       0\n",
      "...         ...  ...             ...     ...\n",
      "9995       9996   25               1       0\n",
      "9996       9997   87               1       0\n",
      "9997       9998   45               1       0\n",
      "9998       9999   43               0       0\n",
      "9999      10000   70               0       0\n",
      "\n",
      "[10000 rows x 4 columns]\n"
     ]
    }
   ],
   "source": [
    "print(X)"
   ]
  },
  {
   "cell_type": "markdown",
   "id": "a3afc92b",
   "metadata": {},
   "source": [
    "<p><strong>Step Four</strong>\n",
    "<ul>\n",
    "    <li>Create train data sets.</li>\n",
    "    <ul>\n",
    "    <li>Save train data sets to CSV.</li>\n",
    "    </ul><br>\n",
    "    <li>Create test data sets.</li>\n",
    "    <ul>\n",
    "    <li>Save test data sets to CSV.</li>\n",
    "    </ul>\n",
    "</ul>\n",
    "\n",
    "<strong>Step Four Imports</strong><br>\n",
    "<sub>No additional imports used.</sub></p>"
   ]
  },
  {
   "cell_type": "code",
   "execution_count": 23,
   "id": "aa81e1b7",
   "metadata": {
    "scrolled": true
   },
   "outputs": [],
   "source": [
    "# Create train data sets and save to CSV\n",
    "\n",
    "X_train=pd.DataFrame(X_train)\n",
    "y_train=pd.DataFrame(y_train)\n",
    "\n",
    "X_train.to_csv('X_train.csv')\n",
    "y_train.to_csv('y_train.csv')"
   ]
  },
  {
   "cell_type": "code",
   "execution_count": 24,
   "id": "1d2b23cf",
   "metadata": {},
   "outputs": [],
   "source": [
    "# Create test data sets and save to CSV\n",
    "\n",
    "X_test=pd.DataFrame(X_test)\n",
    "y_test=pd.DataFrame(y_test)\n",
    "\n",
    "X_test.to_csv('X_test.csv')\n",
    "y_test.to_csv('y_test.csv')"
   ]
  },
  {
   "cell_type": "markdown",
   "id": "00652a77",
   "metadata": {},
   "source": [
    "### K-nearest Neighbors"
   ]
  },
  {
   "cell_type": "markdown",
   "id": "d8764c65",
   "metadata": {},
   "source": [
    "<p><strong>Step One</strong><br>\n",
    "<ul>\n",
    "    <li>Run model with k-value of 3.</li>\n",
    "    <li>Run model with k-value of 5.</li>\n",
    "    <li>Run model with k-value of 9.</li>\n",
    "</ul>\n",
    "\n",
    "<strong>Step One Imports</strong><br>\n",
    "<ul>\n",
    "    <li>KNeighborsClassifier from SciKitLearn's neighbors to use KNN.</li>\n",
    "    <li>accuracy_score from SciKitLearn's metrics to get the accuracy score of the models.</li>\n",
    "</ul></p>"
   ]
  },
  {
   "cell_type": "code",
   "execution_count": 25,
   "id": "8c1512bd",
   "metadata": {},
   "outputs": [],
   "source": [
    "# Import KNeighborsClassifier from SciKitLearn's neighbors.\n",
    "\n",
    "from sklearn.neighbors import KNeighborsClassifier\n",
    "from sklearn.metrics import accuracy_score"
   ]
  },
  {
   "cell_type": "code",
   "execution_count": 26,
   "id": "132750fa",
   "metadata": {},
   "outputs": [
    {
     "name": "stdout",
     "output_type": "stream",
     "text": [
      "The Accuracy Score is: 83.2 %\n"
     ]
    }
   ],
   "source": [
    "# Run model with k-value of 3\n",
    "\n",
    "knn=KNeighborsClassifier(n_neighbors=3)\n",
    "knn.fit(X_train, y_train)\n",
    "y_pred=knn.predict(X_test)\n",
    "print('The Accuracy Score is:', accuracy_score(y_test, y_pred)*100,'%')"
   ]
  },
  {
   "cell_type": "code",
   "execution_count": 27,
   "id": "3ea6b62d",
   "metadata": {},
   "outputs": [
    {
     "name": "stdout",
     "output_type": "stream",
     "text": [
      "The Accuracy Score is: 84.85000000000001 %\n"
     ]
    }
   ],
   "source": [
    "# Run model with k-value of 5\n",
    "\n",
    "knn2=KNeighborsClassifier(n_neighbors=5)\n",
    "knn2.fit(X_train, y_train)\n",
    "y_pred2=knn2.predict(X_test)\n",
    "print('The Accuracy Score is:', accuracy_score(y_test, y_pred2)*100,'%')"
   ]
  },
  {
   "cell_type": "code",
   "execution_count": 28,
   "id": "ca6b2638",
   "metadata": {},
   "outputs": [
    {
     "name": "stdout",
     "output_type": "stream",
     "text": [
      "The Accuracy Score is: 86.45 %\n"
     ]
    }
   ],
   "source": [
    "# Run model with k-value of 9\n",
    "\n",
    "knn3=KNeighborsClassifier(n_neighbors=9)\n",
    "knn3.fit(X_train, y_train)\n",
    "y_pred3=knn3.predict(X_test)\n",
    "print('The Accuracy Score is:', accuracy_score(y_test, y_pred3)*100,'%')"
   ]
  },
  {
   "cell_type": "markdown",
   "id": "88a0a972",
   "metadata": {},
   "source": [
    "<p><strong>Step Two</strong>\n",
    "<ul>\n",
    "    <li>Find the square root of X_Train.</li>\n",
    "    <li>Find optimal value of <em>k</em> using the square root of <em>X_Train</em>.</li>\n",
    "</ul>\n",
    "    \n",
    "<strong>Step Two</strong>\n",
    "<ul>\n",
    "    <li>numpy to perform mathematical operations.</li>\n",
    "    <li>array from numpy to create an array.</li>\n",
    "    <li>KNeighborsRegressor from SciKitLearn's neighbors to perform regression on the model.</li>\n",
    "</ul>\n",
    "</p>"
   ]
  },
  {
   "cell_type": "code",
   "execution_count": 29,
   "id": "e3cfb471",
   "metadata": {},
   "outputs": [],
   "source": [
    "# Import numpy\n",
    "\n",
    "import numpy as np\n",
    "from numpy import array\n",
    "\n",
    "from sklearn.neighbors import KNeighborsRegressor"
   ]
  },
  {
   "cell_type": "code",
   "execution_count": 30,
   "id": "539c42d7",
   "metadata": {},
   "outputs": [
    {
     "name": "stdout",
     "output_type": "stream",
     "text": [
      "The square root of x_train is: 89\n"
     ]
    }
   ],
   "source": [
    "# Find the square root of x_train\n",
    "\n",
    "k_sqrt=round(np.sqrt(len(X_train)))\n",
    "print('The square root of x_train is:', k_sqrt)"
   ]
  },
  {
   "cell_type": "code",
   "execution_count": 31,
   "id": "dfc8523b",
   "metadata": {
    "scrolled": false
   },
   "outputs": [
    {
     "name": "stdout",
     "output_type": "stream",
     "text": [
      "     k  Test Score  Train Score\n",
      "0    1    0.179979     1.000000\n",
      "1    3    0.460015     0.717233\n",
      "2    5    0.518318     0.655908\n",
      "3    7    0.542793     0.632576\n",
      "4    9    0.555619     0.621176\n",
      "5   11    0.561663     0.615717\n",
      "6   13    0.563302     0.611195\n",
      "7   15    0.567161     0.607960\n",
      "8   17    0.570094     0.605420\n",
      "9   19    0.574199     0.602077\n",
      "10  21    0.576741     0.600281\n",
      "11  23    0.577997     0.598091\n",
      "12  25    0.580542     0.595879\n",
      "13  27    0.582335     0.594750\n",
      "14  29    0.582195     0.593131\n",
      "15  31    0.583464     0.590717\n",
      "16  33    0.584771     0.589397\n",
      "17  35    0.585417     0.589314\n",
      "18  37    0.585153     0.588991\n",
      "19  39    0.584367     0.588701\n",
      "20  41    0.583328     0.588280\n",
      "21  43    0.584233     0.587698\n",
      "22  45    0.583633     0.586800\n",
      "23  47    0.583730     0.586298\n",
      "24  49    0.584136     0.585451\n",
      "25  51    0.583762     0.584268\n",
      "26  53    0.583898     0.583125\n",
      "27  55    0.583558     0.583004\n",
      "28  57    0.584036     0.582557\n",
      "29  59    0.584537     0.582139\n",
      "30  61    0.585056     0.581923\n",
      "31  63    0.584831     0.581905\n",
      "32  65    0.585102     0.581531\n",
      "33  67    0.585043     0.581496\n",
      "34  69    0.585368     0.581243\n",
      "35  71    0.584458     0.581233\n",
      "36  73    0.584896     0.581279\n",
      "37  75    0.584353     0.580921\n",
      "38  77    0.584729     0.580557\n",
      "39  79    0.583901     0.580809\n",
      "40  81    0.583997     0.580453\n",
      "41  83    0.584759     0.580123\n",
      "42  85    0.584542     0.579816\n",
      "43  87    0.584715     0.579642\n"
     ]
    }
   ],
   "source": [
    "# Find the optimal value of k using the square root of X_Train\n",
    "\n",
    "knn_arr=[]\n",
    "\n",
    "for i in range(1,k_sqrt,2):\n",
    "    knn=KNeighborsRegressor(n_neighbors=i)\n",
    "    knn.fit(X_train, y_train)\n",
    "    \n",
    "    test_score=knn.score(X_test, y_test)\n",
    "    train_score=knn.score(X_train, y_train)\n",
    "    \n",
    "    knn_arr.append((i, test_score, train_score))\n",
    "\n",
    "knn_arr_df=pd.DataFrame(knn_arr, columns=['k', 'Test Score', 'Train Score'])\n",
    "print(knn_arr_df)"
   ]
  },
  {
   "cell_type": "code",
   "execution_count": 32,
   "id": "98e16ef7",
   "metadata": {
    "scrolled": true
   },
   "outputs": [
    {
     "name": "stdout",
     "output_type": "stream",
     "text": [
      "The optimal value of k is 87\n"
     ]
    }
   ],
   "source": [
    "# Display results\n",
    "\n",
    "opt_k_val=knn_arr_df['k'].iloc[-1]\n",
    "\n",
    "print('The optimal value of k is', opt_k_val)"
   ]
  },
  {
   "cell_type": "markdown",
   "id": "5d956d34",
   "metadata": {},
   "source": [
    "<p><strong>Step Three</strong>\n",
    "<ul>\n",
    "    <li>Run the model using the optimal value of k.</li>\n",
    "</ul>\n",
    "<strong>Step Three Imports</strong><br>\n",
    "<sub>No additional imports used.</sub></p>"
   ]
  },
  {
   "cell_type": "code",
   "execution_count": 33,
   "id": "6a39f908",
   "metadata": {
    "scrolled": true
   },
   "outputs": [],
   "source": [
    "# Train model using optimal value of k\n",
    "\n",
    "knn_opt=KNeighborsClassifier(n_neighbors=opt_k_val)\n",
    "opt_model=knn_opt.fit(X_train, y_train)\n",
    "y_pred_opt=opt_model.predict(X_test)"
   ]
  },
  {
   "cell_type": "markdown",
   "id": "8cc349a4",
   "metadata": {},
   "source": [
    "<p><strong>Step Four</strong>\n",
    "<ul>\n",
    "    <li>Create a Classification Report for Evaluation.</li>\n",
    "    <li>Check the Accuracy Score.</li>\n",
    "    <li>Check the Recall Score.</li>\n",
    "</ul>\n",
    "<strong>Step Four Imports</strong><br>\n",
    "<ul>\n",
    "    <li>classification_report from SciKitLearn's metrics to create a classification report.</li>\n",
    "    <li>recall_score from SciKitLearn's metrics to check the model's recall score.</li>\n",
    "</ul>\n",
    "</p>"
   ]
  },
  {
   "cell_type": "code",
   "execution_count": 34,
   "id": "2bc0f71a",
   "metadata": {},
   "outputs": [],
   "source": [
    "# Import classification_report and recall_score\n",
    "\n",
    "from sklearn.metrics import (\n",
    "    classification_report\n",
    "    ,recall_score)"
   ]
  },
  {
   "cell_type": "code",
   "execution_count": 35,
   "id": "f9f05d8f",
   "metadata": {
    "scrolled": true
   },
   "outputs": [
    {
     "name": "stdout",
     "output_type": "stream",
     "text": [
      "              precision    recall  f1-score   support\n",
      "\n",
      "           0       1.00      0.80      0.89      1266\n",
      "           1       0.74      1.00      0.85       734\n",
      "\n",
      "    accuracy                           0.87      2000\n",
      "   macro avg       0.87      0.90      0.87      2000\n",
      "weighted avg       0.90      0.87      0.87      2000\n",
      "\n"
     ]
    }
   ],
   "source": [
    "# Create classification report for evaluation\n",
    "\n",
    "print(classification_report(y_test, y_pred_opt))"
   ]
  },
  {
   "cell_type": "code",
   "execution_count": 36,
   "id": "b29f1c11",
   "metadata": {},
   "outputs": [
    {
     "name": "stdout",
     "output_type": "stream",
     "text": [
      "The Accuracy Score is: 87.1 %\n"
     ]
    }
   ],
   "source": [
    "# Check the Accuracy Score\n",
    "\n",
    "accuracy_pct = accuracy_score(y_test, y_pred_opt)\n",
    "print('The Accuracy Score is:', accuracy_pct*100,'%')"
   ]
  },
  {
   "cell_type": "code",
   "execution_count": 37,
   "id": "ac7d0db0",
   "metadata": {},
   "outputs": [
    {
     "name": "stdout",
     "output_type": "stream",
     "text": [
      "The Recall Score is: 99.72752043596729 %\n"
     ]
    }
   ],
   "source": [
    "# Check the Recall Score\n",
    "\n",
    "recall_pct = recall_score(y_test, y_pred_opt)\n",
    "print('The Recall Score is:', recall_pct*100,'%')"
   ]
  },
  {
   "cell_type": "markdown",
   "id": "0718b730",
   "metadata": {},
   "source": [
    "<strong>Step Five</strong>\n",
    "    <ul>\n",
    "        <li>Create a Confusion Matrix.</li>\n",
    "        <li>Create a HeatMap of the Confusion Matrix.</li>\n",
    "    </ul>\n",
    "    \n",
    "<strong>Step Five Imports</strong>\n",
    "    <ul>\n",
    "        <li>confusion_matrix from SciKitLearn's matrix package to create a confusion matrix.</li>\n",
    "        <li>Seaborn to create a heatmap of the confusion matrix.</li>\n",
    "    </ul>"
   ]
  },
  {
   "cell_type": "code",
   "execution_count": 38,
   "id": "48ad0cb1",
   "metadata": {},
   "outputs": [],
   "source": [
    "# Import confusion_matrix\n",
    "\n",
    "from sklearn.metrics import confusion_matrix\n",
    "\n",
    "import seaborn as sns"
   ]
  },
  {
   "cell_type": "code",
   "execution_count": 39,
   "id": "573a4982",
   "metadata": {
    "scrolled": true
   },
   "outputs": [
    {
     "name": "stdout",
     "output_type": "stream",
     "text": [
      "[[1010  256]\n",
      " [   2  732]]\n"
     ]
    }
   ],
   "source": [
    "# Create a Confusion Matrix\n",
    "\n",
    "matrix=confusion_matrix(y_test, y_pred_opt)\n",
    "print(matrix)"
   ]
  },
  {
   "cell_type": "code",
   "execution_count": 40,
   "id": "d580e9a1",
   "metadata": {},
   "outputs": [
    {
     "data": {
      "image/png": "[encoded data removed]",
      "text/plain": [
       "<Figure size 1040x715 with 2 Axes>"
      ]
     },
     "metadata": {},
     "output_type": "display_data"
    }
   ],
   "source": [
    "# Create a HeatMap of the Confusion Matrix\n",
    "\n",
    "n_matrix=confusion_matrix(y_test, y_pred_opt)\n",
    "sns.heatmap(n_matrix, annot=True)\n",
    "plt.xlabel('Prediction')\n",
    "plt.ylabel('Actual')\n",
    "plt.title('Confusion Matrix')\n",
    "plt.show()"
   ]
  },
  {
   "cell_type": "markdown",
   "id": "c800337f",
   "metadata": {},
   "source": [
    "## Summary and Implications"
   ]
  },
  {
   "cell_type": "markdown",
   "id": "fb341b2a",
   "metadata": {},
   "source": [
    "### Accuracy and Area Under the Curve (AUC)"
   ]
  },
  {
   "cell_type": "markdown",
   "id": "bee217e4",
   "metadata": {},
   "source": [
    "\n",
    "<strong>Imports</strong>\n",
    "    <ul>\n",
    "        <li>roc_curve from SciKitLearn's metrics package to create the roc curve.</li>\n",
    "        <li>roc_auc_score from SciKitLearn's metrics package to check the auc score.</li>\n",
    "    </ul>"
   ]
  },
  {
   "cell_type": "code",
   "execution_count": 41,
   "id": "fe323563",
   "metadata": {},
   "outputs": [],
   "source": [
    "# Import roc_curve and roc_auc_score\n",
    "\n",
    "from sklearn.metrics import(\n",
    "    roc_curve\n",
    "    ,roc_auc_score\n",
    "    ,precision_score\n",
    "    ,f1_score)"
   ]
  },
  {
   "cell_type": "code",
   "execution_count": 42,
   "id": "01e4ac8a",
   "metadata": {},
   "outputs": [],
   "source": [
    "# Check the AUC Score\n",
    "\n",
    "y_prob=opt_model.predict_proba(X_test)[::,1]\n",
    "fpr, tpr, thresholds=roc_curve(y_test, y_prob, pos_label=1)\n",
    "\n",
    "random_probs=[0 for i in range(len(y_test))]\n",
    "p_fpr, p_tpr, _ =roc_curve(y_test, random_probs, pos_label=1)\n",
    "auc_score=round(roc_auc_score(y_test, y_prob),5)"
   ]
  },
  {
   "cell_type": "code",
   "execution_count": 43,
   "id": "b29fa4b1",
   "metadata": {},
   "outputs": [
    {
     "data": {
      "image/png": "[encoded data removed]",
      "text/plain": [
       "<Figure size 1200x600 with 1 Axes>"
      ]
     },
     "metadata": {},
     "output_type": "display_data"
    }
   ],
   "source": [
    "# Plot the AUC Score\n",
    "\n",
    "plt.figure(figsize=(12,6))\n",
    "plt.title('KNN ROC Curve')\n",
    "# plt.plot(fpr, tpr, auc_score)\n",
    "plt.plot(fpr, tpr, 'r', label='AUC Score: %0.3f' % auc_score, lw=4)\n",
    "plt.plot(p_fpr, p_tpr)\n",
    "plt.legend()\n",
    "plt.xlabel('False Positive')\n",
    "plt.ylabel('True Positive')\n",
    "\n",
    "sns.despine()\n",
    "sns.set_style(\"darkgrid\")\n",
    "\n",
    "plt.show()\n"
   ]
  },
  {
   "cell_type": "code",
   "execution_count": 44,
   "id": "6ff25f65",
   "metadata": {},
   "outputs": [
    {
     "name": "stdout",
     "output_type": "stream",
     "text": [
      "The Accuracy Score is: 0.871\n"
     ]
    }
   ],
   "source": [
    "print('The Accuracy Score is: %.3f' % accuracy_score(y_test, y_pred_opt))"
   ]
  },
  {
   "cell_type": "code",
   "execution_count": 45,
   "id": "aa7bbcec",
   "metadata": {},
   "outputs": [
    {
     "name": "stdout",
     "output_type": "stream",
     "text": [
      "The AUC score is: 89.992 %\n"
     ]
    }
   ],
   "source": [
    "print('The AUC score is:', (auc_score)*100,'%')"
   ]
  },
  {
   "cell_type": "markdown",
   "id": "162008b7",
   "metadata": {},
   "source": [
    "<p>The accuracy score suggests the model will make a correct classification 87.1% of the time.<br>\n",
    "The AUC Score suggests the model can distinguish true positive and true negatives 89.99% of the time.<br>\n",
    "The Accuracy Score and AUC Score may not be the best way to determine the model's usefulness. The best score to use in answering the business question is discussed in more detail below.</p>"
   ]
  },
  {
   "cell_type": "markdown",
   "id": "2c1acc35",
   "metadata": {},
   "source": [
    "## Results and Implications"
   ]
  },
  {
   "cell_type": "markdown",
   "id": "b7640d9f",
   "metadata": {},
   "source": [
    "<p>The test and training models resulted in the following Accuracy Scores:</p>"
   ]
  },
  {
   "cell_type": "code",
   "execution_count": 46,
   "id": "dafff480",
   "metadata": {
    "scrolled": true
   },
   "outputs": [
    {
     "name": "stdout",
     "output_type": "stream",
     "text": [
      "    Test Model Accuracy Score: 87.1 %\n",
      "Training Model Accuracy Score: 86.5125 %\n"
     ]
    }
   ],
   "source": [
    "print('    Test Model Accuracy Score:', (knn_opt.score(X_test, y_test))*100, '%')\n",
    "print('Training Model Accuracy Score:', (knn_opt.score(X_train, y_train))*100, '%')"
   ]
  },
  {
   "cell_type": "markdown",
   "id": "652d29ca",
   "metadata": {},
   "source": [
    "<p><strong>Model Precision Score Results</strong></p>"
   ]
  },
  {
   "cell_type": "code",
   "execution_count": 47,
   "id": "1df51a64",
   "metadata": {},
   "outputs": [
    {
     "name": "stdout",
     "output_type": "stream",
     "text": [
      "The model Precision Score is: 0.741\n"
     ]
    }
   ],
   "source": [
    "print('The model Precision Score is: %.3f' % precision_score(y_test, y_pred_opt))"
   ]
  },
  {
   "cell_type": "markdown",
   "id": "f816c63f",
   "metadata": {},
   "source": [
    "<p>The model has a relatively low precision score.<br>\n",
    "    The low score suggests the model is predicting some false positives during the analysis.</p>"
   ]
  },
  {
   "cell_type": "markdown",
   "id": "377ade84",
   "metadata": {},
   "source": [
    "<p><strong>Model Recall Score Results</strong></p>"
   ]
  },
  {
   "cell_type": "code",
   "execution_count": 48,
   "id": "3b7c1a79",
   "metadata": {},
   "outputs": [
    {
     "name": "stdout",
     "output_type": "stream",
     "text": [
      "The model Recall Score is: 0.997\n"
     ]
    }
   ],
   "source": [
    "print('The model Recall Score is: %.3f' % recall_score(y_test, y_pred_opt))"
   ]
  },
  {
   "cell_type": "markdown",
   "id": "e41c394e",
   "metadata": {},
   "source": [
    "<p>The model has a very high Recall Score.<br>\n",
    "The high recall score suggests the model is identifying true positive results to a high degree of accuracy.</p>"
   ]
  },
  {
   "cell_type": "markdown",
   "id": "6718b3a0",
   "metadata": {},
   "source": [
    "<p><strong>Model Accuracy Score Results</strong></p>"
   ]
  },
  {
   "cell_type": "code",
   "execution_count": 49,
   "id": "89da6463",
   "metadata": {
    "scrolled": true
   },
   "outputs": [
    {
     "name": "stdout",
     "output_type": "stream",
     "text": [
      "The model Accuracy Score is: 0.871\n"
     ]
    }
   ],
   "source": [
    "print('The model Accuracy Score is: %.3f' % accuracy_score(y_test, y_pred_opt))"
   ]
  },
  {
   "cell_type": "markdown",
   "id": "f93e1bda",
   "metadata": {},
   "source": [
    "<p>The accuracy score suggests the model will make a correct prediction 87.1% of the time.</p>"
   ]
  },
  {
   "cell_type": "markdown",
   "id": "216dd186",
   "metadata": {},
   "source": [
    "<p><strong>Model F1 Score Results</strong></p>"
   ]
  },
  {
   "cell_type": "code",
   "execution_count": 50,
   "id": "413844f5",
   "metadata": {},
   "outputs": [
    {
     "name": "stdout",
     "output_type": "stream",
     "text": [
      "       F1 Score: 0.850\n"
     ]
    }
   ],
   "source": [
    "print('       F1 Score: %.3f' % f1_score(y_test, y_pred_opt))"
   ]
  },
  {
   "cell_type": "markdown",
   "id": "e898f568",
   "metadata": {},
   "source": [
    "<p>The F1 Score is a balance of the recall and precision score.</p>"
   ]
  },
  {
   "cell_type": "markdown",
   "id": "46ea604a",
   "metadata": {},
   "source": [
    "<strong>Overall Results</strong>\n",
    "<p>The goal of the analysis is to determine which variables can predict whether a patient will be readmitted, which involves medical decision-making. According to data analyst Ajitesh Kumar, a model's Recall Score should be \"extremely high\" when used in medical diagnosis. A low Recall Score would suggest a high number of false negatives, meaning \"some patients who are positive are termed as falsely negative\" and would lead to patients failing to receive the care they need (Kumar. 2023). Since the goal of the analysis involves medical diagnosis and decision making, the Recall Score should be used when considering whether the analysis was useful.</p>"
   ]
  },
  {
   "cell_type": "markdown",
   "id": "df4710db",
   "metadata": {},
   "source": [
    "### Limitation of the Analysis\n",
    "<p>Finding the optimal value of k is a limitation of the data analysis.<br>\n",
    "The results of KNN can be significantly affected by the value supplied for k. Providing too many values may lead to overfitting. The model might also result in underfitting if the k value is too low.<br>\n",
    "I believe the limitation was by-passed by the methods performed in part two of the data analysis, where the optimal value of k was calculated.</p>\n",
    "\n",
    "### Recommended Course of Action\n",
    "<p>The model involves medical diagnoses and healthcare decisions, so the Recall Score should be used to determine the implications. <br>The model has a very high Recall Score of .997, meaning it can predict a True Positive result 99.7% of the time. The model suggests that a combination of patient age, blood pressure diagnosis, and stroke diagnosis can predict whether a patient would be readmitted.<br>\n",
    "I would suggest the organization use these results to provide additional care to patients fitting this criteria as needed. Providing the additional care during the patient's initial stay could prevent the patient from being readmitted within 30 days, saving the organization time, money, and resources.</p>"
   ]
  },
  {
   "cell_type": "markdown",
   "id": "017f3b22",
   "metadata": {},
   "source": [
    "#### References:\n",
    "<ul>\n",
    "    <li>Bruce, P., Bruce, A., & Gedeck, P. (2020).<em> Practical statistics for data scientists : 50+ essential concepts using r and python.</em> O'Reilly Media, Incorporated.</li>\n",
    "    <li>Kumar, Ajitesh. (2023). <em>Accuracy, Precision, Recall & F1-Score – Python Examples.</em> VitaFlux.com. vitalflux.com/accuracy-precision-recall-f1-score-python-example</li>\n",
    "</ul>"
   ]
  }
 ],
 "metadata": {
  "kernelspec": {
   "display_name": "Python 3 (ipykernel)",
   "language": "python",
   "name": "python3"
  },
  "language_info": {
   "codemirror_mode": {
    "name": "ipython",
    "version": 3
   },
   "file_extension": ".py",
   "mimetype": "text/x-python",
   "name": "python",
   "nbconvert_exporter": "python",
   "pygments_lexer": "ipython3",
   "version": "3.9.13"
  }
 },
 "nbformat": 4,
 "nbformat_minor": 5
}
